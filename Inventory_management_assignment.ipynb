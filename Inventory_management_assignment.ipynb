{
  "nbformat": 4,
  "nbformat_minor": 0,
  "metadata": {
    "colab": {
      "name": "Inventory management assignment.ipynb",
      "provenance": [],
      "authorship_tag": "ABX9TyOmJBQOxvRo5+iwEMhPUxep",
      "include_colab_link": true
    },
    "kernelspec": {
      "name": "python3",
      "display_name": "Python 3"
    },
    "language_info": {
      "name": "python"
    }
  },
  "cells": [
    {
      "cell_type": "markdown",
      "metadata": {
        "id": "view-in-github",
        "colab_type": "text"
      },
      "source": [
        "<a href=\"https://colab.research.google.com/github/tarunkumarsharma120/ETG_Inventory_management/blob/main/Inventory_management_assignment.ipynb\" target=\"_parent\"><img src=\"https://colab.research.google.com/assets/colab-badge.svg\" alt=\"Open In Colab\"/></a>"
      ]
    },
    {
      "cell_type": "markdown",
      "metadata": {
        "id": "n_aBxrw4om1F"
      },
      "source": [
        "## Elite Techno Group , Python for ML/AI Internship"
      ]
    },
    {
      "cell_type": "code",
      "metadata": {
        "id": "cjxgCG3zoyy6"
      },
      "source": [
        "tarun_mall = '''{\"1\": {\"name\": \"earphone\", \"price\": 189.0, \"quantity\": 25, \"category\": \"electronics\", \"discount\": 0}, \n",
        "       \"2\": {\"name\": \"HDD\", \"price\": 45.0, \"quantity\": 25, \"category\": \"electronics\", \"discount\": 4}, \n",
        "       \"3\": {\"name\": \"CHARGER\", \"price\": 99.0, \"quantity\": 25, \"category\": \"electronics\", \"discount\": 12}, \n",
        "       \"4\": {\"name\": \"TEA\", \"price\": 49.0, \"quantity\": 25, \"category\": \"Drinks\", \"discount\": 3}, \n",
        "       \"5\": {\"name\": \"cashew\", \"price\": 149.0, \"quantity\": 25, \"category\": \"eatables\", \"discount\": 8}, \n",
        "       \"6\": {\"name\": \"TAPE\", \"price\": 299.0, \"quantity\": 25, \"category\": \"eatables\", \"discount\": 23}, \n",
        "       \"7\": {\"name\": \"gooday\", \"price\": 149.0, \"quantity\": 25, \"category\": \"eatables\", \"discount\": 13}, \n",
        "       \"8\": {\"name\": \"parle g\", \"price\": 89.0, \"quantity\": 25, \"category\": \"Drinks\", \"discount\": 67}, \n",
        "       \"9\": {\"name\": \"bingo\", \"price\": 69.0, \"quantity\": 25, \"category\": \"Drinks\", \"discount\": 11}, \n",
        "       \"10\": {\"name\": \"5 star\", \"price\": 49.0, \"quantity\": 25, \"category\": \"eatables\", \"discount\": 15}, \n",
        "       \"11\": {\"name\": \"hersheys\", \"price\": 149.0, \"quantity\": 25, \"category\": \"eatables\", \"discount\": 45}, \n",
        "       \"12\": {\"name\": \"oil\", \"price\": 79.0, \"quantity\": 25, \"category\": \"eatables\", \"discount\": 0}, \n",
        "       \"13\": {\"name\": \"dairy milk\", \"price\": 249.0, \"quantity\": 25, \"category\": \"Drinks\", \"discount\": 34}, \n",
        "       \"14\": {\"name\": \"hair oil\", \"price\": 229.0, \"quantity\": 25, \"category\": \"cosmetic\", \"discount\": 12}, \n",
        "       \"15\": {\"name\": \"comb\", \"price\": 29.0, \"quantity\": 25, \"category\": \"cosmetic\", \"discount\": 76}, \n",
        "       \"16\": {\"name\": \"refine oil\", \"price\": 39.0, \"quantity\": 25, \"category\": \"eatables\", \"discount\": 10}, \n",
        "       \"17\": {\"name\": \"masala puri\", \"price\": 10.0, \"quantity\": 25, \"category\": \"eatables\", \"discount\": 7}, \n",
        "       \"18\": {\"name\": \"candy\", \"price\": 50.0, \"quantity\": 25, \"category\": \"eatables\", \"discount\": 56}, \n",
        "       \"19\": {\"name\": \"sauce\", \"price\": 100.0, \"quantity\": 25, \"category\": \"eatables\", \"discount\": 34}, \n",
        "       \"20\": {\"name\": \"soyabean\", \"price\": 150.0, \"quantity\": 25, \"category\": \"eatables\", \"discount\": 21}, \n",
        "       \"21\": {\"name\": \"fruits\", \"price\": 200.0, \"quantity\": 25, \"category\": \"eatables\", \"discount\": 17}, \n",
        "       \"22\": {\"name\": \"stationary\", \"price\": 250.0, \"quantity\": 25, \"category\": \"education\", \"discount\": 14}, \n",
        "       \"23\": {\"name\": \"cake\", \"price\": 80.0, \"quantity\": 25, \"category\": \"decor\", \"discount\": 0}, \n",
        "       \"24\": {\"name\": \"almond\", \"price\": 75.0, \"quantity\": 25, \"category\": \"decor\", \"discount\": 5 }, \n",
        "       \"25\": {\"name\": \"glass\", \"price\": 45.0, \"quantity\": 25, \"category\": \"decor\", \"discount\": 6}, \n",
        "       \"26\": {\"name\": \"alcohol\", \"price\": 105.0, \"quantity\": 25, \"category\": \"Drinks\", \"discount\": 80}, \n",
        "       \"27\": {\"name\": \"hairpin\", \"price\": 155.0, \"quantity\": 25, \"category\": \"cosmetic\", \"discount\": 43}, \n",
        "       \"28\": {\"name\": \"facewash\", \"price\": 245.0, \"quantity\": 25, \"category\": \"cosmetic\", \"discount\": 57}, \n",
        "       \"29\": {\"name\": \"toys\", \"price\": 225.0, \"quantity\": 25, \"category\": \"decor\", \"discount\": 90}, \n",
        "       \"30\": {\"name\": \"book\", \"price\": 285.0, \"quantity\": 50, \"category\": \"education\", \"discount\": 1},\n",
        "       \"31\": {\"name\": \"pen\", \"price\": 85.0, \"quantity\": 10, \"category\": \"education\", \"discount\": 18}}'''"
      ],
      "execution_count": 45,
      "outputs": []
    },
    {
      "cell_type": "code",
      "metadata": {
        "id": "xDejdPeAozsT"
      },
      "source": [
        "import json"
      ],
      "execution_count": 46,
      "outputs": []
    },
    {
      "cell_type": "code",
      "metadata": {
        "id": "zdYS-Xm3qElh"
      },
      "source": [
        "filehandling=open('assignment.json','w')\n",
        "filehandling.write(tarun_mall)\n",
        "filehandling.close()\n"
      ],
      "execution_count": 49,
      "outputs": []
    },
    {
      "cell_type": "code",
      "metadata": {
        "id": "MHVjPux1qo1T"
      },
      "source": [
        "filehandling=open('assignment.json','r')\n",
        "mall=filehandling.read()\n",
        "filehandling.close()"
      ],
      "execution_count": 50,
      "outputs": []
    },
    {
      "cell_type": "code",
      "metadata": {
        "id": "xtAcAgYDrG-a"
      },
      "source": [
        "ma=json.loads(mall)"
      ],
      "execution_count": 51,
      "outputs": []
    },
    {
      "cell_type": "code",
      "metadata": {
        "colab": {
          "base_uri": "https://localhost:8080/"
        },
        "id": "ZlLfeTujrNTB",
        "outputId": "ff53e1a4-1365-4535-d147-efdeb5daa078"
      },
      "source": [
        "ma"
      ],
      "execution_count": 52,
      "outputs": [
        {
          "output_type": "execute_result",
          "data": {
            "text/plain": [
              "{'1': {'category': 'electronics',\n",
              "  'discount': 0,\n",
              "  'name': 'earphone',\n",
              "  'price': 189.0,\n",
              "  'quantity': 25},\n",
              " '10': {'category': 'eatables',\n",
              "  'discount': 15,\n",
              "  'name': '5 star',\n",
              "  'price': 49.0,\n",
              "  'quantity': 25},\n",
              " '11': {'category': 'eatables',\n",
              "  'discount': 45,\n",
              "  'name': 'hersheys',\n",
              "  'price': 149.0,\n",
              "  'quantity': 25},\n",
              " '12': {'category': 'eatables',\n",
              "  'discount': 0,\n",
              "  'name': 'oil',\n",
              "  'price': 79.0,\n",
              "  'quantity': 25},\n",
              " '13': {'category': 'Drinks',\n",
              "  'discount': 34,\n",
              "  'name': 'dairy milk',\n",
              "  'price': 249.0,\n",
              "  'quantity': 25},\n",
              " '14': {'category': 'cosmetic',\n",
              "  'discount': 12,\n",
              "  'name': 'hair oil',\n",
              "  'price': 229.0,\n",
              "  'quantity': 25},\n",
              " '15': {'category': 'cosmetic',\n",
              "  'discount': 76,\n",
              "  'name': 'comb',\n",
              "  'price': 29.0,\n",
              "  'quantity': 25},\n",
              " '16': {'category': 'eatables',\n",
              "  'discount': 10,\n",
              "  'name': 'refine oil',\n",
              "  'price': 39.0,\n",
              "  'quantity': 25},\n",
              " '17': {'category': 'eatables',\n",
              "  'discount': 7,\n",
              "  'name': 'masala puri',\n",
              "  'price': 10.0,\n",
              "  'quantity': 25},\n",
              " '18': {'category': 'eatables',\n",
              "  'discount': 56,\n",
              "  'name': 'candy',\n",
              "  'price': 50.0,\n",
              "  'quantity': 25},\n",
              " '19': {'category': 'eatables',\n",
              "  'discount': 34,\n",
              "  'name': 'sauce',\n",
              "  'price': 100.0,\n",
              "  'quantity': 25},\n",
              " '2': {'category': 'electronics',\n",
              "  'discount': 4,\n",
              "  'name': 'HDD',\n",
              "  'price': 45.0,\n",
              "  'quantity': 25},\n",
              " '20': {'category': 'eatables',\n",
              "  'discount': 21,\n",
              "  'name': 'soyabean',\n",
              "  'price': 150.0,\n",
              "  'quantity': 25},\n",
              " '21': {'category': 'eatables',\n",
              "  'discount': 17,\n",
              "  'name': 'fruits',\n",
              "  'price': 200.0,\n",
              "  'quantity': 25},\n",
              " '22': {'category': 'education',\n",
              "  'discount': 14,\n",
              "  'name': 'stationary',\n",
              "  'price': 250.0,\n",
              "  'quantity': 25},\n",
              " '23': {'category': 'decor',\n",
              "  'discount': 0,\n",
              "  'name': 'cake',\n",
              "  'price': 80.0,\n",
              "  'quantity': 25},\n",
              " '24': {'category': 'decor',\n",
              "  'discount': 5,\n",
              "  'name': 'almond',\n",
              "  'price': 75.0,\n",
              "  'quantity': 25},\n",
              " '25': {'category': 'decor',\n",
              "  'discount': 6,\n",
              "  'name': 'glass',\n",
              "  'price': 45.0,\n",
              "  'quantity': 25},\n",
              " '26': {'category': 'Drinks',\n",
              "  'discount': 80,\n",
              "  'name': 'alcohol',\n",
              "  'price': 105.0,\n",
              "  'quantity': 25},\n",
              " '27': {'category': 'cosmetic',\n",
              "  'discount': 43,\n",
              "  'name': 'hairpin',\n",
              "  'price': 155.0,\n",
              "  'quantity': 25},\n",
              " '28': {'category': 'cosmetic',\n",
              "  'discount': 57,\n",
              "  'name': 'facewash',\n",
              "  'price': 245.0,\n",
              "  'quantity': 25},\n",
              " '29': {'category': 'decor',\n",
              "  'discount': 90,\n",
              "  'name': 'toys',\n",
              "  'price': 225.0,\n",
              "  'quantity': 25},\n",
              " '3': {'category': 'electronics',\n",
              "  'discount': 12,\n",
              "  'name': 'CHARGER',\n",
              "  'price': 99.0,\n",
              "  'quantity': 25},\n",
              " '30': {'category': 'education',\n",
              "  'discount': 1,\n",
              "  'name': 'book',\n",
              "  'price': 285.0,\n",
              "  'quantity': 50},\n",
              " '31': {'category': 'education',\n",
              "  'discount': 18,\n",
              "  'name': 'pen',\n",
              "  'price': 85.0,\n",
              "  'quantity': 10},\n",
              " '4': {'category': 'Drinks',\n",
              "  'discount': 3,\n",
              "  'name': 'TEA',\n",
              "  'price': 49.0,\n",
              "  'quantity': 25},\n",
              " '5': {'category': 'eatables',\n",
              "  'discount': 8,\n",
              "  'name': 'cashew',\n",
              "  'price': 149.0,\n",
              "  'quantity': 25},\n",
              " '6': {'category': 'eatables',\n",
              "  'discount': 23,\n",
              "  'name': 'TAPE',\n",
              "  'price': 299.0,\n",
              "  'quantity': 25},\n",
              " '7': {'category': 'eatables',\n",
              "  'discount': 13,\n",
              "  'name': 'gooday',\n",
              "  'price': 149.0,\n",
              "  'quantity': 25},\n",
              " '8': {'category': 'Drinks',\n",
              "  'discount': 67,\n",
              "  'name': 'parle g',\n",
              "  'price': 89.0,\n",
              "  'quantity': 25},\n",
              " '9': {'category': 'Drinks',\n",
              "  'discount': 11,\n",
              "  'name': 'bingo',\n",
              "  'price': 69.0,\n",
              "  'quantity': 25}}"
            ]
          },
          "metadata": {},
          "execution_count": 52
        }
      ]
    },
    {
      "cell_type": "code",
      "metadata": {
        "id": "5ckIS24cu_65"
      },
      "source": [
        "## Summition of the all the price with discount"
      ],
      "execution_count": 53,
      "outputs": []
    },
    {
      "cell_type": "code",
      "metadata": {
        "colab": {
          "base_uri": "https://localhost:8080/"
        },
        "id": "CrXYR1L0wRG_",
        "outputId": "892d3c01-1a20-4192-e017-8cca35d712ac"
      },
      "source": [
        "type(ma)"
      ],
      "execution_count": 55,
      "outputs": [
        {
          "output_type": "execute_result",
          "data": {
            "text/plain": [
              "dict"
            ]
          },
          "metadata": {},
          "execution_count": 55
        }
      ]
    },
    {
      "cell_type": "code",
      "metadata": {
        "colab": {
          "base_uri": "https://localhost:8080/"
        },
        "id": "y_IBgET5vhRz",
        "outputId": "8efedc0f-863a-4e40-c0d5-dd19ee6a7528"
      },
      "source": [
        "total=0\n",
        "for i in range(1,32):\n",
        "  total+=ma[str(i)]['price']*(1-ma[str(i)]['discount']/100)\n",
        "print(total)"
      ],
      "execution_count": 56,
      "outputs": [
        {
          "output_type": "stream",
          "name": "stdout",
          "text": [
            "2944.49\n"
          ]
        }
      ]
    },
    {
      "cell_type": "code",
      "metadata": {
        "id": "VghyI1NvwMJW"
      },
      "source": [
        "tot=json.dumps(total)\n",
        "file=open('sales.json','w')\n",
        "file.write(tot)\n",
        "file.close()"
      ],
      "execution_count": 58,
      "outputs": []
    },
    {
      "cell_type": "code",
      "metadata": {
        "colab": {
          "base_uri": "https://localhost:8080/"
        },
        "id": "yPzAxr3qws4V",
        "outputId": "1b0646bb-ea1d-4128-8293-926efddae91f"
      },
      "source": [
        "import time\n",
        "print(time.ctime())"
      ],
      "execution_count": 59,
      "outputs": [
        {
          "output_type": "stream",
          "name": "stdout",
          "text": [
            "Fri Sep  3 13:05:33 2021\n"
          ]
        }
      ]
    },
    {
      "cell_type": "code",
      "metadata": {
        "id": "zcCKXsjCw6vp"
      },
      "source": [
        ""
      ],
      "execution_count": null,
      "outputs": []
    }
  ]
}